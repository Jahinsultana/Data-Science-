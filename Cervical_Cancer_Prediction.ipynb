{
  "nbformat": 4,
  "nbformat_minor": 0,
  "metadata": {
    "colab": {
      "private_outputs": true,
      "provenance": [],
      "gpuType": "T4"
    },
    "kernelspec": {
      "name": "python3",
      "display_name": "Python 3"
    },
    "language_info": {
      "name": "python"
    },
    "accelerator": "GPU"
  },
  "cells": [
    {
      "cell_type": "code",
      "source": [
        "pip install pyswarms"
      ],
      "metadata": {
        "id": "SPmGaPu1S5In"
      },
      "execution_count": null,
      "outputs": []
    },
    {
      "cell_type": "code",
      "source": [
        "pip install xgboost"
      ],
      "metadata": {
        "id": "46xpOPqL6qPi"
      },
      "execution_count": null,
      "outputs": []
    },
    {
      "cell_type": "code",
      "source": [
        "import numpy as np\n",
        "import pandas as pd\n",
        "import matplotlib.pyplot as plt\n",
        "import seaborn as sns\n",
        "import pandas as pd\n",
        "import numpy as np\n",
        "import seaborn as sns\n",
        "from sklearn.metrics import accuracy_score, classification_report, confusion_matrix\n",
        "from scipy.stats import kstest\n",
        "from scipy.stats import pearsonr\n",
        "import matplotlib.pyplot as plt\n",
        "import xgboost as xgb\n",
        "from sklearn.svm import SVC\n",
        "from sklearn.neural_network import MLPClassifier\n",
        "from sklearn.neighbors import KNeighborsClassifier\n",
        "from sklearn.naive_bayes import GaussianNB\n",
        "from sklearn.ensemble import RandomForestClassifier\n",
        "from sklearn.model_selection import train_test_split, GridSearchCV"
      ],
      "metadata": {
        "id": "v1iy1nu-jeUe"
      },
      "execution_count": null,
      "outputs": []
    },
    {
      "cell_type": "code",
      "source": [
        "import pandas as pd\n",
        "import numpy as np\n",
        "from sklearn.model_selection import cross_val_score\n",
        "from sklearn.ensemble import RandomForestClassifier\n",
        "from sklearn.preprocessing import LabelEncoder\n",
        "from pyswarms.discrete import BinaryPSO\n",
        "from pyswarms.utils.plotters import plot_cost_history\n",
        "import matplotlib.pyplot as plt"
      ],
      "metadata": {
        "id": "dL2mgbN7S0tS"
      },
      "execution_count": null,
      "outputs": []
    },
    {
      "cell_type": "code",
      "source": [
        "dataset=pd.read_csv('/content/cervical-cancer_csv.csv')"
      ],
      "metadata": {
        "id": "xl8WMi7Yoljr"
      },
      "execution_count": null,
      "outputs": []
    },
    {
      "cell_type": "code",
      "source": [
        "dataset.columns"
      ],
      "metadata": {
        "id": "xWKHB32B-Q4l"
      },
      "execution_count": null,
      "outputs": []
    },
    {
      "cell_type": "code",
      "source": [
        "dataset.head()"
      ],
      "metadata": {
        "id": "04L0TrXs-Efb"
      },
      "execution_count": null,
      "outputs": []
    },
    {
      "cell_type": "code",
      "source": [
        "dataset.shape"
      ],
      "metadata": {
        "id": "mOPkUkyS-Ei4"
      },
      "execution_count": null,
      "outputs": []
    },
    {
      "cell_type": "code",
      "source": [
        "dataset.nunique()"
      ],
      "metadata": {
        "id": "bwq35GNT7rDf"
      },
      "execution_count": null,
      "outputs": []
    },
    {
      "cell_type": "code",
      "source": [
        "dataset.hist(grid=False,figsize=(20,20))\n",
        "plt.show()"
      ],
      "metadata": {
        "id": "r9ys1cRRYOyW"
      },
      "execution_count": null,
      "outputs": []
    },
    {
      "cell_type": "code",
      "source": [
        "dataset.isna().sum()"
      ],
      "metadata": {
        "id": "CkyQNBFvDSAW"
      },
      "execution_count": null,
      "outputs": []
    },
    {
      "cell_type": "code",
      "source": [
        "dataset = pd.get_dummies(dataset, drop_first=True)"
      ],
      "metadata": {
        "id": "ambqEdGRAVv2"
      },
      "execution_count": null,
      "outputs": []
    },
    {
      "cell_type": "code",
      "source": [
        "numerical_columns = dataset.select_dtypes(include=np.number).columns\n",
        "categorical_columns = dataset.select_dtypes(include='object').columns\n",
        "\n",
        "# Filling missing values in numeric variables with median\n",
        "for column in numerical_columns:\n",
        "    mean_value = dataset[column].mean()\n",
        "    dataset.loc[:, column] = dataset[column].fillna(mean_value)\n",
        "\n",
        "# Finally, convert all data to numeric values\n",
        "    dataset = dataset.apply(pd.to_numeric)"
      ],
      "metadata": {
        "id": "-XlbtaUG-EoP"
      },
      "execution_count": null,
      "outputs": []
    },
    {
      "cell_type": "code",
      "source": [
        "dataset.isna().sum()"
      ],
      "metadata": {
        "id": "_AXiRlhHiUsd"
      },
      "execution_count": null,
      "outputs": []
    },
    {
      "cell_type": "code",
      "source": [
        "value_counts = dataset['Dx:Cancer'].value_counts()\n",
        "\n",
        "print(value_counts)"
      ],
      "metadata": {
        "id": "NFD4lhN49LN8"
      },
      "execution_count": null,
      "outputs": []
    },
    {
      "cell_type": "code",
      "source": [
        "dataset.drop(['STDs: Time since first diagnosis', 'STDs: Time since last diagnosis','STDs:cervical condylomatosis','STDs:AIDS'], axis=1, inplace=True)\n",
        "# cols_to_use = ['Age','Num of pregnancies','Dx:Cancer', 'Smokes', 'Smokes (years)', 'Smokes (packs/year)','IUD','IUD (years)', 'STDs', 'STDs (number)', 'STDs:condylomatosis','STDs:vulvo-perineal condylomatosis','STDs:HIV','STDs: Number of diagnosis','STDs: Time since first diagnosis', 'STDs: Time since last diagnosis','Dx:Cancer', 'Dx:CIN', 'Dx:HPV', 'Dx','Hinselmann','Schiller','Biopsy']\n",
        "# dataset = dataset[cols_to_use]"
      ],
      "metadata": {
        "id": "8ULSdV0Q7rGX"
      },
      "execution_count": null,
      "outputs": []
    },
    {
      "cell_type": "code",
      "source": [
        "import matplotlib.pyplot as plt\n",
        "import seaborn as sns\n",
        "\n",
        "# Assuming the last column is the target, select all columns except the last one\n",
        "features = dataset.columns[:-1]\n",
        "\n",
        "plt.figure(figsize=(15,8))\n",
        "sns.boxplot(data=dataset[features], orient='h')\n",
        "plt.title('Boxplot of Features in Whole Dataset')\n",
        "plt.xlabel('Feature Value')\n",
        "plt.show()\n"
      ],
      "metadata": {
        "id": "-qVU5qqbxjST"
      },
      "execution_count": null,
      "outputs": []
    },
    {
      "cell_type": "code",
      "source": [
        "columns_to_winsorize = ['Smokes', 'Smokes (years)', 'Smokes (packs/year)', 'IUD (years)']\n",
        "lower_percentile = 0.05\n",
        "upper_percentile = 0.95\n",
        "\n",
        "for column in columns_to_winsorize:\n",
        "    lower_bound = dataset[column].quantile(lower_percentile)\n",
        "    upper_bound = dataset[column].quantile(upper_percentile)\n",
        "    dataset['winsorized_' + column] = dataset[column].clip(lower=lower_bound, upper=upper_bound)\n",
        "\n",
        "print(\"\\nOriginal Data:\")\n",
        "print(dataset[columns_to_winsorize].head())\n",
        "\n",
        "print(\"\\nWinsorized Data:\")\n",
        "print(dataset[['winsorized_' + col for col in columns_to_winsorize]].head())"
      ],
      "metadata": {
        "id": "Inx9kuUjij1n"
      },
      "execution_count": null,
      "outputs": []
    },
    {
      "cell_type": "code",
      "source": [
        "\n",
        "import matplotlib.pyplot as plt\n",
        "\n",
        "counts = dataset['Biopsy'].value_counts().sort_index()\n",
        "\n",
        "plt.bar(counts.index, counts.values, color=['green', 'red'])\n",
        "plt.xticks([0, 1], ['No(0)', 'Yes (1)'])\n",
        "plt.xlabel('Biopsy')\n",
        "plt.ylabel('Count')\n",
        "plt.title('Distribution of Biopsy')\n",
        "plt.show()\n"
      ],
      "metadata": {
        "id": "_1SPt2iO6EEh"
      },
      "execution_count": null,
      "outputs": []
    },
    {
      "cell_type": "code",
      "source": [
        "corr_matrix = dataset.corr()\n",
        "\n",
        "# Plot heatmap\n",
        "plt.figure(figsize=(20, 20))\n",
        "sns.heatmap(corr_matrix, annot=True, fmt=\".2f\", cmap='coolwarm', square=True)\n",
        "plt.title('Correlation Matrix')\n",
        "plt.show()"
      ],
      "metadata": {
        "id": "C7EEh4Knisfm"
      },
      "execution_count": null,
      "outputs": []
    },
    {
      "cell_type": "code",
      "source": [
        "dataset.columns"
      ],
      "metadata": {
        "id": "UenKoT02Ul14"
      },
      "execution_count": null,
      "outputs": []
    },
    {
      "cell_type": "code",
      "source": [
        "print(type(dataset))  # This will print the actual type of `dataset`\n"
      ],
      "metadata": {
        "id": "viA4ZulEmCkn"
      },
      "execution_count": null,
      "outputs": []
    },
    {
      "cell_type": "code",
      "source": [
        "features = ['Age',\n",
        "           'Num of pregnancies', 'Smokes', 'Smokes (years)', 'Smokes (packs/year)',\n",
        "            'IUD',\n",
        "           'IUD (years)', 'STDs', 'STDs (number)', 'STDs:condylomatosis',\n",
        "           'STDs:vaginal condylomatosis', 'STDs:vulvo-perineal condylomatosis',\n",
        "           'STDs:syphilis',\n",
        "           'STDs: Number of diagnosis', 'Dx:CIN', 'Dx', 'Hinselmann',\n",
        "           'Schiller']\n",
        "\n",
        "target = ['Dx:Cancer','Biopsy']"
      ],
      "metadata": {
        "id": "t_niJ4xGH7jx"
      },
      "execution_count": null,
      "outputs": []
    },
    {
      "cell_type": "code",
      "source": [
        "\n",
        "\n",
        "# Encode categorical columns\n",
        "for col in dataset.columns:\n",
        "    if dataset[col].dtype == 'object':\n",
        "        dataset[col] = LabelEncoder().fit_transform(dataset[col].astype(str))\n",
        "\n",
        "X = dataset[features].values\n",
        "y = dataset[target].values"
      ],
      "metadata": {
        "id": "abiUROTo0zCb"
      },
      "execution_count": null,
      "outputs": []
    },
    {
      "cell_type": "code",
      "source": [
        "import matplotlib.pyplot as plt\n",
        "\n",
        "counts = dataset['Dx:Cancer'].value_counts().sort_index()\n",
        "\n",
        "plt.bar(counts.index, counts.values, color=['green', 'red'])\n",
        "plt.xticks([0, 1], ['No Cancer (0)', 'Cancer (1)'])\n",
        "plt.xlabel('Dx:Cancer')\n",
        "plt.ylabel('Count')\n",
        "plt.title('Distribution of Dx:Cancer')\n",
        "plt.show()\n"
      ],
      "metadata": {
        "id": "mdkPRY7148kR"
      },
      "execution_count": null,
      "outputs": []
    },
    {
      "cell_type": "code",
      "source": [
        "from sklearn.model_selection import train_test_split\n",
        "\n",
        "X_train, X_test, y_train, y_test = train_test_split(\n",
        "    X, y, test_size=0.2, stratify=y, random_state=42)\n",
        "print(X_train.shape)\n",
        "print(X_test.shape)"
      ],
      "metadata": {
        "id": "b4w2dbUA0fF6"
      },
      "execution_count": null,
      "outputs": []
    },
    {
      "cell_type": "code",
      "source": [
        "from imblearn.combine import SMOTEENN\n",
        "from sklearn.preprocessing import LabelEncoder\n",
        "\n",
        "# If needed, convert y_train to 1D\n",
        "y_train_single = np.argmax(y_train, axis=1) if y_train.ndim > 1 else y_train\n",
        "\n",
        "smote_enn = SMOTEENN(random_state=42)\n",
        "X_train_res, y_train_res = smote_enn.fit_resample(X_train, y_train_single)\n",
        "\n",
        "\n",
        "print(\"After SMOTEENN:\")\n",
        "print(\"X_train_res shape:\", X_train_res.shape)\n",
        "print(\"y_train_res distribution:\", np.bincount(y_train_res))\n"
      ],
      "metadata": {
        "id": "gOiwgqeFvqbV"
      },
      "execution_count": null,
      "outputs": []
    },
    {
      "cell_type": "markdown",
      "source": [
        "# Logistic Regression"
      ],
      "metadata": {
        "id": "2o4EbT3K9-nD"
      }
    },
    {
      "cell_type": "code",
      "source": [
        "from sklearn.linear_model import LogisticRegression\n",
        "from sklearn.multioutput import MultiOutputClassifier\n",
        "from sklearn.metrics import accuracy_score, confusion_matrix\n",
        "\n",
        "# Initialize base classifier\n",
        "logreg = LogisticRegression(random_state=42, max_iter=1000)\n",
        "\n",
        "# Wrap it in MultiOutputClassifier\n",
        "model = MultiOutputClassifier(logreg)\n",
        "model.fit(X_train, y_train)\n",
        "\n",
        "# Predict on train and test sets\n",
        "y_train_pred = model.predict(X_train)\n",
        "y_test_pred = model.predict(X_test)\n",
        "\n",
        "# Evaluate overall accuracy\n",
        "train_acc = accuracy_score(y_train, y_train_pred)\n",
        "test_acc = accuracy_score(y_test, y_test_pred)\n",
        "\n",
        "# List of target columns\n",
        "target_cols = ['Dx:Cancer', 'Biopsy']  # Replace with your actual target names if different\n",
        "\n",
        "# Print results\n",
        "print(f\"\\nTraining Accuracy: {train_acc:.4f} | Testing Accuracy: {test_acc:.4f}\")\n",
        "\n",
        "# Print confusion matrices for each target column\n",
        "for i, col in enumerate(target_cols):\n",
        "    print(f\"\\nConfusion Matrix for '{col}':\")\n",
        "    print(confusion_matrix(y_test[:, i], y_test_pred[:, i]))\n"
      ],
      "metadata": {
        "id": "Q_ZM5v3Z7l1j"
      },
      "execution_count": null,
      "outputs": []
    },
    {
      "cell_type": "markdown",
      "source": [
        "# Decision Tree"
      ],
      "metadata": {
        "id": "VGQGVGMF-Gjw"
      }
    },
    {
      "cell_type": "code",
      "source": [
        "from sklearn.tree import DecisionTreeClassifier\n",
        "from sklearn.multioutput import MultiOutputClassifier\n",
        "from sklearn.metrics import accuracy_score, confusion_matrix, classification_report\n",
        "from sklearn.ensemble import RandomForestClassifier\n",
        "from sklearn.model_selection import GridSearchCV\n",
        "\n",
        "# Initialize base classifier\n",
        "tree_model = DecisionTreeClassifier(random_state=42)\n",
        "\n",
        "\n",
        "forest = RandomForestClassifier(\n",
        "    n_estimators=100,\n",
        "    max_depth=10,\n",
        "    class_weight='balanced',\n",
        "    random_state=42\n",
        ")\n",
        "model = MultiOutputClassifier(forest)\n",
        "model.fit(X_train, y_train)\n",
        "\n",
        "\n",
        "# Wrap in MultiOutputClassifier for multi-label support\n",
        "model = MultiOutputClassifier(tree_model)\n",
        "model.fit(X_train, y_train)\n",
        "\n",
        "# Predict on train and test\n",
        "y_train_pred = model.predict(X_train)\n",
        "y_test_pred = model.predict(X_test)\n",
        "\n",
        "# Accuracy scores\n",
        "train_acc = accuracy_score(y_train, y_train_pred)\n",
        "test_acc = accuracy_score(y_test, y_test_pred)\n",
        "\n",
        "# Define target columns\n",
        "target_cols = ['Dx:Cancer', 'Biopsy']  # Adjust based on your actual target column names\n",
        "\n",
        "# Print overall accuracy\n",
        "print(f\"\\nTraining Accuracy: {train_acc:.4f} | Testing Accuracy: {test_acc:.4f}\")\n",
        "\n",
        "# Print confusion matrix and classification report for each target\n",
        "for i, col in enumerate(target_cols):\n",
        "    print(f\"\\nConfusion Matrix for '{col}':\")\n",
        "    print(confusion_matrix(y_test[:, i], y_test_pred[:, i]))\n",
        "\n",
        "    print(f\"\\nClassification Report for '{col}':\")\n",
        "    print(classification_report(y_test[:, i], y_test_pred[:, i], zero_division=0))\n"
      ],
      "metadata": {
        "id": "oSTCFScW79Lw"
      },
      "execution_count": null,
      "outputs": []
    },
    {
      "cell_type": "markdown",
      "source": [
        "# Random Forest"
      ],
      "metadata": {
        "id": "OXF4O2AS-O4s"
      }
    },
    {
      "cell_type": "code",
      "source": [
        "from sklearn.ensemble import RandomForestClassifier\n",
        "from sklearn.metrics import accuracy_score, confusion_matrix\n",
        "from sklearn.multioutput import MultiOutputClassifier\n",
        "\n",
        "rf = RandomForestClassifier(\n",
        "    n_estimators=100,\n",
        "    max_depth=8,                    # restrict tree depth\n",
        "    min_samples_split=10,           # avoid small splits\n",
        "    min_samples_leaf=5,             # more samples per leaf\n",
        "    class_weight='balanced',        # handle class imbalance\n",
        "    random_state=42\n",
        ")\n",
        "\n",
        "model = MultiOutputClassifier(rf)\n",
        "model.fit(X_train, y_train)\n",
        "\n",
        "\n",
        "y_train_pred = model.predict(X_train)\n",
        "y_test_pred = model.predict(X_test)\n",
        "\n",
        "train_acc = accuracy_score(y_train, y_train_pred)\n",
        "test_acc = accuracy_score(y_test, y_test_pred)\n",
        "\n",
        "target_cols = ['Dx:Cancer', 'Biopsy']  # replace with your actual target names\n",
        "\n",
        "print(f\"\\nTraining Accuracy: {train_acc:.4f} | Testing Accuracy: {test_acc:.4f}\")\n",
        "\n",
        "for i, col in enumerate(target_cols):\n",
        "    print(f\"\\nConfusion Matrix for '{col}':\")\n",
        "    print(confusion_matrix(y_test[:, i], y_test_pred[:, i]))\n",
        "\n"
      ],
      "metadata": {
        "id": "aofbZ5gzNLST"
      },
      "execution_count": null,
      "outputs": []
    },
    {
      "cell_type": "markdown",
      "source": [
        "# Xgboost"
      ],
      "metadata": {
        "id": "AjzXp8xF-TGT"
      }
    },
    {
      "cell_type": "code",
      "source": [
        "from xgboost import XGBClassifier\n",
        "from sklearn.multioutput import MultiOutputClassifier\n",
        "from sklearn.metrics import accuracy_score, confusion_matrix\n",
        "\n",
        "xgb = XGBClassifier(\n",
        "    use_label_encoder=False,\n",
        "    eval_metric='logloss',\n",
        "    random_state=42,\n",
        "    n_estimators=100,\n",
        "    max_depth=4,              # lower depth = less overfitting\n",
        "    learning_rate=0.1,        # slower learning = better generalization\n",
        "    subsample=0.8,            # only use 80% of rows per tree\n",
        "    colsample_bytree=0.8,     # only use 80% of columns per tree\n",
        "    reg_alpha=0.5,            # L1 regularization\n",
        "    reg_lambda=1.0,           # L2 regularization\n",
        "    scale_pos_weight=5        # adjust based on your class imbalance\n",
        ")\n",
        "\n",
        "\n",
        "model = MultiOutputClassifier(xgb)\n",
        "model.fit(X_train, y_train)\n",
        "\n",
        "\n",
        "y_train_pred = model.predict(X_train)\n",
        "y_test_pred = model.predict(X_test)\n",
        "\n",
        "train_acc = accuracy_score(y_train, y_train_pred)\n",
        "test_acc = accuracy_score(y_test, y_test_pred)\n",
        "\n",
        "target_cols = ['Dx:Cancer', 'Biopsy']  # replace with your actual target names\n",
        "\n",
        "print(f\"\\nTraining Accuracy: {train_acc:.4f} | Testing Accuracy: {test_acc:.4f}\")\n",
        "\n",
        "for i, col in enumerate(target_cols):\n",
        "    print(f\"\\nConfusion Matrix for '{col}':\")\n",
        "    print(confusion_matrix(y_test[:, i], y_test_pred[:, i]))\n"
      ],
      "metadata": {
        "id": "svoFsxfONLXn"
      },
      "execution_count": null,
      "outputs": []
    },
    {
      "cell_type": "code",
      "source": [
        "pip install --upgrade catboost\n"
      ],
      "metadata": {
        "id": "V6luq9H0EgKW"
      },
      "execution_count": null,
      "outputs": []
    },
    {
      "cell_type": "code",
      "source": [
        "pip install lightgbm"
      ],
      "metadata": {
        "id": "gKG-W_Ky7JQk"
      },
      "execution_count": null,
      "outputs": []
    },
    {
      "cell_type": "markdown",
      "source": [
        "# Catboost"
      ],
      "metadata": {
        "id": "rMiCHwQ3-Yri"
      }
    },
    {
      "cell_type": "code",
      "source": [
        "from catboost import CatBoostClassifier\n",
        "from sklearn.multioutput import MultiOutputClassifier\n",
        "from sklearn.metrics import accuracy_score, confusion_matrix, classification_report\n",
        "\n",
        "catboost_model = CatBoostClassifier(\n",
        "    random_seed=42,\n",
        "    iterations=100,\n",
        "    depth=4,\n",
        "    learning_rate=0.1,\n",
        "    verbose=False\n",
        ")\n",
        "\n",
        "\n",
        "\n",
        "# Wrap in MultiOutputClassifier\n",
        "model = MultiOutputClassifier(catboost_model)\n",
        "\n",
        "# Train the model\n",
        "model.fit(X_train, y_train)\n",
        "\n",
        "# Predict\n",
        "y_train_pred = model.predict(X_train)\n",
        "y_test_pred = model.predict(X_test)\n",
        "\n",
        "# Accuracy scores\n",
        "train_acc = accuracy_score(y_train, y_train_pred)\n",
        "test_acc = accuracy_score(y_test, y_test_pred)\n",
        "\n",
        "print(f\"\\nTraining Accuracy: {train_acc:.4f} | Testing Accuracy: {test_acc:.4f}\")\n",
        "\n",
        "target_cols = ['Dx:Cancer', 'Biopsy']\n",
        "\n",
        "for i, col in enumerate(target_cols):\n",
        "    print(f\"\\nConfusion Matrix for '{col}':\")\n",
        "    print(confusion_matrix(y_test[:, i], y_test_pred[:, i]))\n",
        "\n",
        "    print(f\"\\nClassification Report for '{col}':\")\n",
        "    print(classification_report(y_test[:, i], y_test_pred[:, i], zero_division=0))\n"
      ],
      "metadata": {
        "id": "5_8BEjBjRE8r"
      },
      "execution_count": null,
      "outputs": []
    },
    {
      "cell_type": "code",
      "source": [
        "import pandas as pd\n",
        "\n",
        "# Prepare the data\n",
        "results = {\n",
        "    'Model': ['Logistic Regression', 'Decision Tree', 'Random Forest', 'XGBoost', 'CatBoost'],\n",
        "    'Training Accuracy': [0.9476, 0.9940, 0.9521, 0.9775, 0.9671],\n",
        "    'Testing Accuracy': [0.9461, 0.9461, 0.9581, 0.9581, 0.9581]\n",
        "}\n",
        "\n",
        "# Create DataFrame\n",
        "df_results = pd.DataFrame(results)\n",
        "\n",
        "# Display the table\n",
        "print(df_results)\n"
      ],
      "metadata": {
        "id": "T5mLxrO5HuCi"
      },
      "execution_count": null,
      "outputs": []
    },
    {
      "cell_type": "markdown",
      "source": [
        "# PSO-feature extraction"
      ],
      "metadata": {
        "id": "pXPAvmdakdd3"
      }
    },
    {
      "cell_type": "code",
      "source": [
        "pip install catboost pyswarms scikit-learn\n"
      ],
      "metadata": {
        "id": "mKAjlD7mJpyx"
      },
      "execution_count": null,
      "outputs": []
    },
    {
      "cell_type": "code",
      "source": [
        "pip install optuna"
      ],
      "metadata": {
        "id": "oTvYJAD0O0W6"
      },
      "execution_count": null,
      "outputs": []
    },
    {
      "cell_type": "code",
      "source": [
        "pip install -U imbalanced-learn\n"
      ],
      "metadata": {
        "id": "GaK5JA4OPTMq"
      },
      "execution_count": null,
      "outputs": []
    },
    {
      "cell_type": "code",
      "source": [
        "import numpy as np\n",
        "from sklearn.model_selection import StratifiedKFold\n",
        "from imblearn.over_sampling import SMOTE\n",
        "from catboost import CatBoostClassifier\n",
        "from sklearn.metrics import accuracy_score, confusion_matrix, classification_report\n",
        "\n",
        "# Assume these are predefined:\n",
        "# X_train, y_train, X_test, y_test: your data arrays\n",
        "# features: list of feature names\n",
        "# targets: list of target names (length = y_train.shape[1])\n",
        "# best_particle: result from your PSO optimization (array of shape [n_features])\n",
        "\n",
        "def objective_function(particles):\n",
        "    scores = []\n",
        "    for particle in particles:\n",
        "        mask = particle > 0.5\n",
        "        if np.sum(mask) == 0:\n",
        "            scores.append(1.0)  # Penalize if no features selected\n",
        "            continue\n",
        "        X_sel = X_train[:, mask]\n",
        "\n",
        "        skf = StratifiedKFold(n_splits=5, shuffle=True, random_state=42)\n",
        "        accs = []\n",
        "\n",
        "        # We'll do CV based on the first target stratification as proxy\n",
        "        for train_idx, val_idx in skf.split(X_sel, y_train[:, 0]):\n",
        "            X_tr, X_val = X_sel[train_idx], X_sel[val_idx]\n",
        "            y_tr, y_val = y_train[train_idx], y_train[val_idx]\n",
        "\n",
        "            acc_list = []\n",
        "            for i in range(y_train.shape[1]):\n",
        "                # Apply SMOTE on training fold per target\n",
        "                smote = SMOTE(random_state=42)\n",
        "                X_res, y_res = smote.fit_resample(X_tr, y_tr[:, i])\n",
        "\n",
        "                model = CatBoostClassifier(\n",
        "                    iterations=300,\n",
        "                    learning_rate=0.03,\n",
        "                    depth=8,\n",
        "                    l2_leaf_reg=5,\n",
        "                    border_count=128,\n",
        "                    verbose=0,\n",
        "                    random_seed=42,\n",
        "                    early_stopping_rounds=50\n",
        "                )\n",
        "                model.fit(X_res, y_res, eval_set=(X_val, y_val[:, i]), use_best_model=True)\n",
        "                acc = model.score(X_val, y_val[:, i])\n",
        "                acc_list.append(acc)\n",
        "\n",
        "            accs.append(np.mean(acc_list))\n",
        "\n",
        "        mean_acc = np.mean(accs)\n",
        "        scores.append(1 - mean_acc)  # PSO minimizes this\n",
        "\n",
        "    return np.array(scores)\n",
        "\n",
        "# After PSO optimization, finalize feature mask\n",
        "best_mask = best_particle > 0.5\n",
        "selected_features = np.array(features)[best_mask]\n",
        "print(f\"\\n✅ Selected features by PSO ({len(selected_features)}):\\n{selected_features}\")\n",
        "\n",
        "X_train_final = X_train[:, best_mask]\n",
        "X_test_final = X_test[:, best_mask]\n",
        "\n",
        "# Train final models per target using SMOTE\n",
        "final_models = []\n",
        "for i in range(y_train.shape[1]):\n",
        "    smote = SMOTE(random_state=42)\n",
        "    X_res, y_res = smote.fit_resample(X_train_final, y_train[:, i])\n",
        "\n",
        "    model = CatBoostClassifier(\n",
        "        iterations=700,\n",
        "        learning_rate=0.02,\n",
        "        depth=8,\n",
        "        l2_leaf_reg=5,\n",
        "        border_count=128,\n",
        "        verbose=0,\n",
        "        random_seed=42,\n",
        "        early_stopping_rounds=100\n",
        "    )\n",
        "    model.fit(X_res, y_res, eval_set=(X_test_final, y_test[:, i]), use_best_model=True)\n",
        "    final_models.append(model)\n",
        "\n",
        "# Predict on test data\n",
        "y_pred = np.column_stack([model.predict(X_test_final) for model in final_models])\n",
        "\n",
        "test_acc = accuracy_score(y_test, y_pred)\n",
        "print(f\"\\n✅ Test Accuracy with SMOTE and selected features: {test_acc:.4f}\")\n",
        "\n",
        "for i, col in enumerate(targets):\n",
        "    print(f\"\\nConfusion Matrix for '{col}':\")\n",
        "    print(confusion_matrix(y_test[:, i], y_pred[:, i]))\n",
        "    print(f\"\\nClassification Report for '{col}':\")\n",
        "    print(classification_report(y_test[:, i], y_pred[:, i], zero_division=0))\n"
      ],
      "metadata": {
        "id": "ZlBFzR4oUMp5"
      },
      "execution_count": null,
      "outputs": []
    },
    {
      "cell_type": "code",
      "source": [],
      "metadata": {
        "id": "G05gmMz9A9ch"
      },
      "execution_count": null,
      "outputs": []
    }
  ]
}